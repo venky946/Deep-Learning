{
  "nbformat": 4,
  "nbformat_minor": 0,
  "metadata": {
    "colab": {
      "name": "19. Backpropagation and Gradient Checking_2.ipynb",
      "provenance": [],
      "collapsed_sections": []
    },
    "kernelspec": {
      "name": "python3",
      "display_name": "Python 3"
    }
  },
  "cells": [
    {
      "cell_type": "markdown",
      "metadata": {
        "id": "y871RZtRhCEH"
      },
      "source": [
        "# <font color='red'>BackPropagation</font>"
      ]
    },
    {
      "cell_type": "markdown",
      "metadata": {
        "id": "LqePYi-4mFvK"
      },
      "source": [
        "**There will be some functions that start with the word \"grader\" ex: grader_sigmoid(), grader_forwardprop(), grader_backprop() etc, you should not change those function definition.<br><br>Every Grader function has to return True.**"
      ]
    },
    {
      "cell_type": "markdown",
      "metadata": {
        "id": "0huUQ0byiI0I"
      },
      "source": [
        "## <font color='red'>Loading data </font>"
      ]
    },
    {
      "cell_type": "code",
      "metadata": {
        "colab": {
          "base_uri": "https://localhost:8080/"
        },
        "id": "cQhLSrC_0VD0",
        "outputId": "8ff72cbf-d37f-4c98-ddea-be03fb4825cf"
      },
      "source": [
        "from google.colab import drive\n",
        "drive.mount('/content/drive')"
      ],
      "execution_count": 1,
      "outputs": [
        {
          "output_type": "stream",
          "name": "stdout",
          "text": [
            "Mounted at /content/drive\n"
          ]
        }
      ]
    },
    {
      "cell_type": "code",
      "metadata": {
        "id": "1hSje5CBgcUb",
        "colab": {
          "base_uri": "https://localhost:8080/"
        },
        "outputId": "f94c0072-d713-42de-ff5c-29ffc61b5921"
      },
      "source": [
        "import pickle\n",
        "import numpy as np\n",
        "from tqdm import tqdm\n",
        "import matplotlib.pyplot as plt\n",
        "\n",
        "with open('/content/drive/My Drive/Dataset/Backpropagation/data.pkl', 'rb') as f:\n",
        "    data = pickle.load(f)\n",
        "print(data.shape)\n",
        "X = data[:, :5]\n",
        "y = data[:, -1]\n",
        "print(X.shape, y.shape)"
      ],
      "execution_count": 2,
      "outputs": [
        {
          "output_type": "stream",
          "name": "stdout",
          "text": [
            "(506, 6)\n",
            "(506, 5) (506,)\n"
          ]
        }
      ]
    },
    {
      "cell_type": "code",
      "metadata": {
        "colab": {
          "base_uri": "https://localhost:8080/"
        },
        "id": "-oQmZ-c9-7L8",
        "outputId": "c6567ad3-20b4-4cf1-af32-95898e97224c"
      },
      "source": [
        "print(data.shape)\n",
        "X = data[:, :5]\n",
        "y = data[:, -1]\n",
        "print(X.shape, y.shape)"
      ],
      "execution_count": 3,
      "outputs": [
        {
          "output_type": "stream",
          "name": "stdout",
          "text": [
            "(506, 6)\n",
            "(506, 5) (506,)\n"
          ]
        }
      ]
    },
    {
      "cell_type": "markdown",
      "metadata": {
        "id": "5JL-0soQistC"
      },
      "source": [
        "# <font color='red'>Computational graph</font>"
      ]
    },
    {
      "cell_type": "markdown",
      "metadata": {
        "id": "nREnTTJ3i0Vd"
      },
      "source": [
        "<img src='https://i.imgur.com/seSGbNS.png'>"
      ]
    },
    {
      "cell_type": "markdown",
      "metadata": {
        "id": "DSPX_H_4i_HT"
      },
      "source": [
        "\n",
        "*  **If you observe the graph, we are having input features [f1, f2, f3, f4, f5] and 9 weights [w1, w2, w3, w4, w5, w6,    w7, w8, w9]**.<br><br>\n",
        "*  **The final output of this graph is a value L which is computed as (Y-Y')^2** "
      ]
    },
    {
      "cell_type": "markdown",
      "metadata": {
        "id": "D54eDEv6jkO4"
      },
      "source": [
        "# <font color='red'>Task 1: Implementing backpropagation and Gradient checking </font>"
      ]
    },
    {
      "cell_type": "markdown",
      "metadata": {
        "id": "qocI1Vzqkod9"
      },
      "source": [
        "<font color='blue'><b>Check this video for better understanding of the computational graphs and back propagation</font>"
      ]
    },
    {
      "cell_type": "code",
      "metadata": {
        "id": "Wb5WMdwJinlX",
        "colab": {
          "base_uri": "https://localhost:8080/",
          "height": 521
        },
        "outputId": "b10489ec-890a-445a-c6a4-a3e0ea2a66be"
      },
      "source": [
        "from IPython.display import YouTubeVideo\n",
        "YouTubeVideo('i94OvYb6noo',width=\"1000\",height=\"500\")"
      ],
      "execution_count": null,
      "outputs": [
        {
          "output_type": "execute_result",
          "data": {
            "text/html": [
              "\n",
              "        <iframe\n",
              "            width=\"1000\"\n",
              "            height=\"500\"\n",
              "            src=\"https://www.youtube.com/embed/i94OvYb6noo\"\n",
              "            frameborder=\"0\"\n",
              "            allowfullscreen\n",
              "        ></iframe>\n",
              "        "
            ],
            "text/plain": [
              "<IPython.lib.display.YouTubeVideo at 0x7f676b82acf8>"
            ],
            "image/jpeg": "[encoded data removed]"
          },
          "metadata": {
            "tags": []
          },
          "execution_count": 11
        }
      ]
    },
    {
      "cell_type": "markdown",
      "metadata": {
        "id": "2jecTyVRlh-6"
      },
      "source": [
        "\n",
        "*  <b>Write two functions<br>\n",
        "    *  Forward propagation</b>(Write your code in<font color='blue'> def forward_propagation()</b></font>)<br><br>\n",
        "    For easy debugging, we will break the computational graph into 3 parts.\n",
        "\n",
        "    <font color='green'><b>Part 1</b></font></b>\n",
        "    <img src='https://i.imgur.com/0xUaxy6.png'><br><br>\n",
        "    <font color='green'><b>Part 2</b></font></b><br>\n",
        "    <img src='https://i.imgur.com/J29pAJL.png'><br><br>\n",
        "    <font color='green'><b>Part 3</b></font></b>\n",
        "    <img src='https://i.imgur.com/vMyCsd9.png'>\n",
        "\n",
        "    <pre>\n",
        "    <font color='green'>\n",
        "def forward_propagation(X, y, W):\n",
        "        <font color='grey'>\n",
        "        # X: input data point, note that in this assignment you are having 5-d data points\n",
        "        # y: output varible\n",
        "        # W: weight array, its of length 9, W[0] corresponds to w1 in graph, W[1] corresponds to w2 in graph, <br>         ..., W[8] corresponds to w9 in graph.  \n",
        "        # you have to return the following variables\n",
        "        # exp= part1 (compute the forward propagation until exp and then store the values in exp)\n",
        "        # tanh =part2(compute the forward propagation until tanh and then store the values in tanh)\n",
        "        # sig = part3(compute the forward propagation until sigmoid and then store the values in sig)\n",
        "        # now compute remaining values from computional graph and get y'\n",
        "        # write code to compute the value of L=(y-y')^2\n",
        "        # compute derivative of L  w.r.to Y' and store it in dl\n",
        "        # Create a dictionary to store all the intermediate values\n",
        "        # store L, exp,tanh,sig,dl variables\n",
        "        </font>\n",
        "        return (dictionary, which you might need to use for back propagation)\n",
        "        <font color='grey'>\n",
        "        </font>\n",
        "</font>\n",
        "</pre>\n",
        "    *  <b>Backward propagation</b>(Write your code in<font color='blue'> def backward_propagation()</b></font>)\n",
        "    </b>\n",
        "    <pre>\n",
        "    <font color='green'>\n",
        "    def backward_propagation(L, W,dictionary):\n",
        "        <font color='grey'>\n",
        "        # L: the loss we calculated for the current point\n",
        "        # dictionary: the outputs of the forward_propagation() function\n",
        "        # write code to compute the gradients of each weight [w1,w2,w3,...,w9]\n",
        "        # Hint: you can use dict type to store the required variables \n",
        "        # return dW, dW is a dictionary with gradients of all the weights\n",
        "        </font>\n",
        "        return dW\n",
        "        </font>\n",
        "</font>\n",
        "</pre>"
      ]
    },
    {
      "cell_type": "markdown",
      "metadata": {
        "id": "STS4NrQQc6OH"
      },
      "source": [
        " ## <font color='red'>Gradient clipping</font>"
      ]
    },
    {
      "cell_type": "markdown",
      "metadata": {
        "id": "XY7ivRNzdPok"
      },
      "source": [
        "<b> Check this  <a href='https://towardsdatascience.com/how-to-debug-a-neural-network-with-gradient-checking-41deec0357a9'>blog link</a> for more details on Gradient clipping"
      ]
    },
    {
      "cell_type": "markdown",
      "metadata": {
        "id": "BrsfpDoidtZ5"
      },
      "source": [
        " we know that the derivative of any function is\n",
        " \n",
        " $$\\lim_{\\epsilon\\to0}\\frac{f(x+\\epsilon)-f(x-\\epsilon)}{2\\epsilon}$$\n"
      ]
    },
    {
      "cell_type": "markdown",
      "metadata": {
        "id": "vUcmt0kPd02f"
      },
      "source": [
        "*  The definition above can be used as a numerical approximation of the derivative. Taking an epsilon small enough, the calculated approximation will have an error in the range of epsilon squared. \n",
        "\n",
        "*  In other words, if epsilon is 0.001, the approximation will be off by 0.00001.\n",
        "\n",
        "Therefore, we can use this to approximate the gradient, and in turn make sure that backpropagation is implemented properly. This forms the basis of <b>gradient checking!</b>"
      ]
    },
    {
      "cell_type": "markdown",
      "metadata": {
        "id": "pFSu16KCeU0x"
      },
      "source": [
        "## <Font color='blue'>Gradient checking example</font>"
      ]
    },
    {
      "cell_type": "markdown",
      "metadata": {
        "id": "Gz0mmT_xecfC"
      },
      "source": [
        "<font >\n",
        "lets understand the concept with a simple example:\n",
        "$f(w1,w2,x1,x2)=w_{1}^{2} . x_{1} + w_{2} . x_{2}$ \n",
        "\n",
        "from the above function , lets assume $w_{1}=1$, $w_{2}=2$, $x_{1}=3$, $x_{2}=4$ the gradient of $f$ w.r.t $w_{1}$ is\n",
        "\n",
        "\\begin{array} {lcl}\n",
        "\\frac{df}{dw_{1}} = dw_{1} &=&2.w_{1}.x_{1} \\\\& = &2.1.3\\\\& = &6\n",
        "\\end{array}\n",
        "\n",
        "\n",
        "let calculate the aproximate gradient of $w_{1}$ as mentinoned in the above formula and considering $\\epsilon=0.0001$\n",
        "\n",
        "\\begin{array} {lcl}\n",
        "dw_1^{approx} & = & \\frac{f(w1+\\epsilon,w2,x1,x2)-f(w1-\\epsilon,w2,x1,x2)}{2\\epsilon} \\\\ & = & \\frac{((1+0.0001)^{2} . 3 + 2 . 4) - ((1-0.0001)^{2} . 3 + 2 . 4)}{2\\epsilon} \\\\ & = & \\frac{(1.00020001 . 3 + 2 . 4) - (0.99980001. 3 + 2 . 4)}{2*0.0001} \\\\ & = & \\frac{(11.00060003) - (10.99940003)}{0.0002}\\\\ & = & 5.99999999999\n",
        "\\end{array}\n",
        "\n",
        "Then, we apply the following formula for gradient check: <i>gradient_check</i> = \n",
        "$\\frac{\\left\\Vert\\left (dW-dW^{approx}\\rm\\right) \\right\\Vert_2}{\\left\\Vert\\left (dW\\rm\\right) \\right\\Vert_2+\\left\\Vert\\left (dW^{approx}\\rm\\right) \\right\\Vert_2}$\n",
        "\n",
        "The equation above is basically the Euclidean distance normalized by the sum of the norm of the vectors. We use normalization in case that one of the vectors is very small.\n",
        "As a value for epsilon, we usually opt for 1e-7. Therefore, if gradient check return a value less than 1e-7, then it means that backpropagation was implemented correctly. Otherwise, there is potentially a mistake in your implementation. If the value exceeds 1e-3, then you are sure that the code is not correct.\n",
        "\n",
        "in our example: <i>gradient_check</i> $ = \\frac{(6 - 5.999999999994898)}{(6 + 5.999999999994898)} = 4.2514140356330737e^{-13}$\n",
        "\n",
        "you can mathamatically derive the same thing like this\n",
        "\n",
        "\\begin{array} {lcl}\n",
        "dw_1^{approx} & = & \\frac{f(w1+\\epsilon,w2,x1,x2)-f(w1-\\epsilon,w2,x1,x2)}{2\\epsilon} \\\\ & = & \\frac{((w_{1}+\\epsilon)^{2} . x_{1} + w_{2} . x_{2}) - ((w_{1}-\\epsilon)^{2} . x_{1} + w_{2} . x_{2})}{2\\epsilon} \\\\ & = & \\frac{4. \\epsilon.w_{1}. x_{1}}{2\\epsilon} \\\\ & = &  2.w_{1}.x_{1}\n",
        "\\end{array}\n"
      ]
    },
    {
      "cell_type": "markdown",
      "metadata": {
        "id": "f1BFQQaCermK"
      },
      "source": [
        "## <font color='red'> Implement Gradient checking </font> <br>\n",
        " (Write your code in <font color='blue'> def gradient_checking()</font>)"
      ]
    },
    {
      "cell_type": "markdown",
      "metadata": {
        "id": "GqpfA3AqfJba"
      },
      "source": [
        "**Algorithm** \n",
        "\n"
      ]
    },
    {
      "cell_type": "markdown",
      "metadata": {
        "id": "FL39KeRFfNoD"
      },
      "source": [
        "<pre>\n",
        "<font color='darkblue'>\n",
        "W = initilize_randomly\n",
        "def gradient_checking(data_point, W):<font color='grey'>\n",
        "    # compute the L value using forward_propagation()\n",
        "    # compute the gradients of W using backword_propagation()</font>\n",
        "    approx_gradients = []\n",
        "    for each wi weight value in W:<font color='grey'>\n",
        "        # add a small value to weight wi, and then find the values of L with the updated weights\n",
        "        # subtract a small value to weight wi, and then find the values of L with the updated weights\n",
        "        # compute the approximation gradients of weight wi</font>\n",
        "        approx_gradients.append(approximation gradients of weight wi)<font color='grey'>\n",
        "    # compare the gradient of weights W from backword_propagation() with the aproximation gradients of weights with <br>  gradient_check formula</font>\n",
        "    return gradient_check</font>\n",
        "<b>NOTE: you can do sanity check by checking all the return values of gradient_checking(),<br> they have to be zero. if not you have bug in your code\n",
        "</pre></b>"
      ]
    },
    {
      "cell_type": "markdown",
      "metadata": {
        "id": "0ufbFBFfhgL0"
      },
      "source": [
        "# <font color='red'> Task 2 : Optimizers </font>"
      ]
    },
    {
      "cell_type": "markdown",
      "metadata": {
        "id": "7zt05soYh1RM"
      },
      "source": [
        "* As a part of this task, you will be implementing 3 type of optimizers(methods to update weight)\n",
        "* Use the same computational graph that was mentioned above to do this task\n",
        "* Initilze the 9 weights from normal distribution with mean=0 and std=0.01"
      ]
    },
    {
      "cell_type": "markdown",
      "metadata": {
        "id": "CAyi7aSAicbr"
      },
      "source": [
        "**Check below video and <a href='https://cs231n.github.io/neural-networks-3/'>this</a> blog**"
      ]
    },
    {
      "cell_type": "code",
      "metadata": {
        "id": "ZogcxiegkQpz",
        "colab": {
          "base_uri": "https://localhost:8080/",
          "height": 521
        },
        "outputId": "9b4e0235-e638-4f20-d9c1-ac3ca4fb3ce8"
      },
      "source": [
        "from IPython.display import YouTubeVideo\n",
        "YouTubeVideo('gYpoJMlgyXA',width=\"1000\",height=\"500\")"
      ],
      "execution_count": null,
      "outputs": [
        {
          "output_type": "execute_result",
          "data": {
            "text/html": [
              "\n",
              "        <iframe\n",
              "            width=\"1000\"\n",
              "            height=\"500\"\n",
              "            src=\"https://www.youtube.com/embed/gYpoJMlgyXA\"\n",
              "            frameborder=\"0\"\n",
              "            allowfullscreen\n",
              "        ></iframe>\n",
              "        "
            ],
            "text/plain": [
              "<IPython.lib.display.YouTubeVideo at 0x7f676043e208>"
            ],
            "image/jpeg": "[encoded data removed]"
          },
          "metadata": {
            "tags": []
          },
          "execution_count": 56
        }
      ]
    },
    {
      "cell_type": "markdown",
      "metadata": {
        "id": "jmefh7ktjbaR"
      },
      "source": [
        "<font color='blue'><b>Algorithm</b>"
      ]
    },
    {
      "cell_type": "markdown",
      "metadata": {
        "id": "nAc4NudkjdNa"
      },
      "source": [
        "<pre>\n",
        "    for each epoch(1-100):\n",
        "        for each data point in your data:\n",
        "            using the functions forward_propagation() and backword_propagation() compute the gradients of weights\n",
        "            update the weigts with help of gradients  ex: w1 = w1-learning_rate*dw1\n",
        "</pre>"
      ]
    },
    {
      "cell_type": "markdown",
      "metadata": {
        "id": "_fdmPNqtjm3X"
      },
      "source": [
        "## <font color='red'> Implement below tasks</b>"
      ]
    },
    {
      "cell_type": "markdown",
      "metadata": {
        "id": "Ll9-CRsLjx_D"
      },
      "source": [
        "\n",
        "*  <b>Task 2.1</b>: you will be implementing the above algorithm with <b>Vanilla update</b> of weights<br><br>\n",
        "*  <b>Task 2.2</b>: you will be implementing the above algorithm with <b>Momentum update</b> of weights<br><br>\n",
        "*  <b>Task 2.3</b>: you will be implementing the above algorithm with <b>Adam update</b> of weights\n"
      ]
    },
    {
      "cell_type": "markdown",
      "metadata": {
        "id": "atp082demrUR"
      },
      "source": [
        "**Note : If you get any assertion error while running grader functions, please print the variables in grader functions and check which variable is returning False .Recheck your logic for that variable .**"
      ]
    },
    {
      "cell_type": "markdown",
      "metadata": {
        "id": "phG2WDkjkuIL"
      },
      "source": [
        "<br>\n",
        "<br>\n",
        "<br>"
      ]
    },
    {
      "cell_type": "markdown",
      "metadata": {
        "id": "CBaPzHP63grG"
      },
      "source": [
        "# <font color='red'>Task 1 </font>"
      ]
    },
    {
      "cell_type": "markdown",
      "metadata": {
        "id": "QfmV3FUgSrBo"
      },
      "source": [
        "## <font color='blue'>Forward propagation </font>"
      ]
    },
    {
      "cell_type": "code",
      "metadata": {
        "id": "5_pBivcY30qf"
      },
      "source": [
        "def sigmoid(z):\n",
        "\n",
        "  #Calculate sigmoid\n",
        "  return (1/(1+np.exp(-z)))\n",
        "    \n",
        "def forward_propagation(x, y, w):\n",
        "\n",
        "  #Create empty dictionary\n",
        "  d = dict()\n",
        "\n",
        "  #Calculate exponential using formula\n",
        "  exp = np.exp(((w[0]**2 * x[0]**2) + (w[1]**2 * x[1]**2) + (2*w[0]*x[0]*w[1]*x[1])) + w[5])\n",
        "\n",
        "  #calculate tanh using formula\n",
        "  tanh = np.tanh(exp + w[6])\n",
        "\n",
        "  #calculate sigmoid value by calling sigmoid function\n",
        "  sig = sigmoid(((np.sin(w[2]*x[2])) * ((w[3]*x[3]) + (w[4]*x[4]))) + w[7])\n",
        "\n",
        "  #calculate y_hat\n",
        "  y_hat = tanh + (sig*w[8])\n",
        "\n",
        "  #calculate loss value using formula\n",
        "  loss = (y - y_hat)**2\n",
        "\n",
        "  #calculte y_predicted value using formula\n",
        "  dy_pr = -2 * (y - y_hat)\n",
        "\n",
        "  #Store the calculated values in dictionary\n",
        "  d['exp'] = exp\n",
        "  d['tanh'] = tanh\n",
        "  d['sigmoid'] = sig\n",
        "  d['loss'] = loss\n",
        "  d['dy_pr'] = dy_pr\n",
        "  d['x1'] = x[0]\n",
        "  d['x2'] = x[1]\n",
        "  d['x3'] = x[2]\n",
        "  d['x4'] = x[3]\n",
        "  d['x5'] = x[4]\n",
        "  d['y'] = y\n",
        "  d['y_hat'] = y_hat\n",
        "  \n",
        "  #return dictionary\n",
        "  return d"
      ],
      "execution_count": 4,
      "outputs": []
    },
    {
      "cell_type": "markdown",
      "metadata": {
        "id": "z-z1rGKqCHNN"
      },
      "source": [
        "<font color='cyan'>Grader function - 1</font>"
      ]
    },
    {
      "cell_type": "code",
      "metadata": {
        "id": "6ZxFF00zBmx1",
        "colab": {
          "base_uri": "https://localhost:8080/"
        },
        "outputId": "96c64a6d-cdd4-4b54-fad4-7a8f5bcde9b6"
      },
      "source": [
        "def grader_sigmoid(z):\n",
        "  val=sigmoid(z)\n",
        "  assert(val==0.8807970779778823)\n",
        "  return True\n",
        "grader_sigmoid(2)"
      ],
      "execution_count": null,
      "outputs": [
        {
          "output_type": "execute_result",
          "data": {
            "text/plain": [
              "True"
            ]
          },
          "metadata": {},
          "execution_count": 5
        }
      ]
    },
    {
      "cell_type": "markdown",
      "metadata": {
        "id": "KgAUXq_aChey"
      },
      "source": [
        "<font color='cyan'>Grader function - 2 </font>"
      ]
    },
    {
      "cell_type": "code",
      "metadata": {
        "id": "3uzsUqcjCorN",
        "colab": {
          "base_uri": "https://localhost:8080/"
        },
        "outputId": "8f58d033-2a5f-4672-b51d-3d61141e065a"
      },
      "source": [
        "def grader_forwardprop(data):\n",
        "    dl = (data['dy_pr']==-1.9285278284819143)\n",
        "    loss=(data['loss']==0.9298048963072919)\n",
        "    part1=(data['exp']==1.1272967040973583)\n",
        "    part2=(data['tanh']==0.8417934192562146)\n",
        "    part3=(data['sigmoid']==0.5279179387419721)\n",
        "    assert(dl and loss and part1 and part2 and part3)\n",
        "    return True\n",
        "w=np.ones(9)*0.1\n",
        "d1=forward_propagation(X[0],y[0],w)\n",
        "grader_forwardprop(d1)"
      ],
      "execution_count": null,
      "outputs": [
        {
          "output_type": "execute_result",
          "data": {
            "text/plain": [
              "True"
            ]
          },
          "metadata": {},
          "execution_count": 6
        }
      ]
    },
    {
      "cell_type": "markdown",
      "metadata": {
        "id": "obOaAqj3Sxvb"
      },
      "source": [
        "## <font color='blue'>Backward propagation</font>"
      ]
    },
    {
      "cell_type": "code",
      "metadata": {
        "id": "dS49ykcOGhIv"
      },
      "source": [
        "def backward_propagation(L,W,d1):\n",
        "\n",
        "  #creating empty dictionary\n",
        "  dw = dict()\n",
        "  w = W\n",
        "\n",
        "  #Calculate derivatives of each weights\n",
        "  dw1 = d1['dy_pr'] * (1-(d1['tanh'])**2) * (d1['exp']) * (2*(w[0]*L[0] + w[1]*L[1]))*L[0]\n",
        "\n",
        "  dw2 = d1['dy_pr'] * (1-(d1['tanh'])**2) * (d1['exp']) * (2*(w[0]*L[0] + w[1]*L[1]))*L[1]\n",
        "\n",
        "  dw3 = ( ( (d1['sigmoid'] * (1-d1['sigmoid'])) * w[8] ) * ( np.cos(w[2]*L[2]) * L[2] * ( (w[3]*L[3]) + (w[4]*L[4]) ) ) ) * d1['dy_pr']\n",
        "  \n",
        "  dw4 = ( (d1['sigmoid'] * (1-d1['sigmoid'])) * w[8] ) * ( np.sin(w[2]*L[2]) * L[3]) * d1['dy_pr']\n",
        "\n",
        "  dw5 = ( (d1['sigmoid'] * (1-d1['sigmoid'])) * w[8] ) * ( np.sin(w[2]*L[2]) * L[4]) * d1['dy_pr']\n",
        "\n",
        "  dw6 = (1-d1['tanh']**2) * d1['dy_pr'] * d1['exp']\n",
        "\n",
        "  dw7 = (1-d1['tanh']**2) * d1['dy_pr']\n",
        "\n",
        "  dw8 = ( (d1['sigmoid'] * (1-d1['sigmoid'])) * w[8] ) * d1['dy_pr']\n",
        "\n",
        "  dw9 = d1['sigmoid'] * d1['dy_pr']\n",
        "\n",
        "  #Store the above calculated derivaties in dictionary\n",
        "  dw['dw1'] = dw1\n",
        "  dw['dw2'] = dw2\n",
        "  dw['dw3'] = dw3\n",
        "  dw['dw4'] = dw4\n",
        "  dw['dw5'] = dw5\n",
        "  dw['dw6'] = dw6\n",
        "  dw['dw7'] = dw7\n",
        "  dw['dw8'] = dw8\n",
        "  dw['dw9'] = dw9\n",
        "\n",
        "  #return dictionary\n",
        "  return dw"
      ],
      "execution_count": 14,
      "outputs": []
    },
    {
      "cell_type": "markdown",
      "metadata": {
        "id": "2NpZWAVlS4jb"
      },
      "source": [
        "<font color='cyan'>Grader function - 3 </font>"
      ]
    },
    {
      "cell_type": "code",
      "metadata": {
        "id": "1a8Kll2xGhMJ",
        "colab": {
          "base_uri": "https://localhost:8080/"
        },
        "outputId": "4e9f4a77-8dee-4c5f-c079-eb3318398acc"
      },
      "source": [
        "def grader_backprop(data):\n",
        "    dw1=(data['dw1']==-0.22973323498702003)\n",
        "    dw2=(data['dw2']==-0.021407614717752925)\n",
        "    dw3=(data['dw3']==-0.005625405580266319)\n",
        "    dw4=(data['dw4']==-0.004657941222712423)\n",
        "    dw5=(data['dw5']==-0.0010077228498574246)\n",
        "    dw6=(data['dw6']==-0.6334751873437471)\n",
        "    dw7=(data['dw7']==-0.561941842854033)\n",
        "    dw8=(data['dw8']==-0.04806288407316516)\n",
        "    dw9=(data['dw9']==-1.0181044360187037)\n",
        "    assert(dw1 and dw2 and dw3 and dw4 and dw5 and dw6 and dw7 and dw8 and dw9)\n",
        "    return True \n",
        "\n",
        "w=np.ones(9)*0.1\n",
        "d1=forward_propagation(X[0],y[0],w)\n",
        "d1=backward_propagation(X[0],w,d1)\n",
        "grader_backprop(d1)"
      ],
      "execution_count": null,
      "outputs": [
        {
          "output_type": "execute_result",
          "data": {
            "text/plain": [
              "True"
            ]
          },
          "metadata": {},
          "execution_count": 15
        }
      ]
    },
    {
      "cell_type": "markdown",
      "metadata": {
        "id": "1rfHHXZwgwo6"
      },
      "source": [
        "## <font color='blue'> Implement gradient checking</font>"
      ]
    },
    {
      "cell_type": "code",
      "metadata": {
        "id": "oh8wj1yjGhOi"
      },
      "source": [
        "#initialize weight with 0.1\n",
        "W = np.ones(9)*0.1\n",
        "def gradient_checking(data_point, W):\n",
        "\n",
        "  #assign X and Y\n",
        "  X = data_point[:, :5]\n",
        "  y = data_point[:, -1]\n",
        "\n",
        "  #calculate forward propagation\n",
        "  df = forward_propagation(X[0], y[0], W)\n",
        "  #calculate loss\n",
        "  L = df['loss']\n",
        "  \n",
        "  #calculate back propogation\n",
        "  db = backward_propagation(X[0],W,df)\n",
        "\n",
        "  #initialize t to 0.0001\n",
        "  t = 0.0001\n",
        "  #create empty list\n",
        "  Wplus, Wminus = [], []\n",
        "  approx_gradients = []\n",
        "  gradient_check = []\n",
        "  \n",
        "  #iterate through length of Weight(W)\n",
        "  for i in range(len(W)):\n",
        "    #add t to first value of weight and store in Wplus\n",
        "    Wplus = W.copy()\n",
        "    Wplus[i] = Wplus[i] + t\n",
        "\n",
        "    #subtract t to first value of weight and store in Wplus\n",
        "    Wminus = W.copy()\n",
        "    Wminus[i] = Wminus[i] - t\n",
        "\n",
        "    #calculate forward propagation\n",
        "    df = forward_propagation(X[0], y[0], W)\n",
        "    #calculate back propogation\n",
        "    db = backward_propagation(X[0],W,df)\n",
        "\n",
        "    #calculate forward propagation using Wplus\n",
        "    dfplus = forward_propagation(X[0], y[0], Wplus)\n",
        "    #calculate forward propagation using Wminus\n",
        "    dfminus = forward_propagation(X[0], y[0], Wminus)\n",
        "\n",
        "    #calculate approximate gradient\n",
        "    dwapp = (dfplus['loss'] - dfminus['loss']) / (2*t)\n",
        "\n",
        "    #append the calculate gradient to list\n",
        "    approx_gradients.append(dwapp)\n",
        "\n",
        "  #iterate through length of weight(W)\n",
        "  for i in range(1, len(W)+1):\n",
        "    #calculate gradient heck using formula\n",
        "    gradient = (np.linalg.norm(db[f'dw{i}'] - approx_gradients[i-1])) / (np.linalg.norm(db[f'dw{i}']) + np.linalg.norm(approx_gradients[i-1]))\n",
        "    #appending the calculated gradient check to list\n",
        "    gradient_check.append(gradient)\n",
        "\n",
        "  for i in range(len(gradient_check)):\n",
        "    if gradient_check[i] < 1e-7:\n",
        "      print(\"True\")\n",
        "    else:\n",
        "      print('False')\n",
        "\n",
        "  #return gradient check list\n",
        "  return gradient_check"
      ],
      "execution_count": 25,
      "outputs": []
    },
    {
      "cell_type": "code",
      "metadata": {
        "colab": {
          "base_uri": "https://localhost:8080/"
        },
        "id": "v-kBfs6EkP3j",
        "outputId": "6b59652b-4be4-487e-eb32-552d08b78e6e"
      },
      "source": [
        "g = gradient_checking(data, W)"
      ],
      "execution_count": 26,
      "outputs": [
        {
          "output_type": "stream",
          "name": "stdout",
          "text": [
            "True\n",
            "True\n",
            "True\n",
            "True\n",
            "True\n",
            "True\n",
            "True\n",
            "True\n",
            "True\n"
          ]
        }
      ]
    },
    {
      "cell_type": "markdown",
      "metadata": {
        "id": "vs2s-MQvlJxy"
      },
      "source": [
        "As we got True in Grdient Checking process, we conclude that all values in gradient_checklist are less than 1e-7."
      ]
    },
    {
      "cell_type": "markdown",
      "metadata": {
        "id": "MhwDSe99kJ32"
      },
      "source": [
        "# <font color='red'>Task 2: Optimizers"
      ]
    },
    {
      "cell_type": "markdown",
      "metadata": {
        "id": "jJzI-vnPk1dB"
      },
      "source": [
        "###<font color='blue'>Algorithm with Vanilla update of weights</font>"
      ]
    },
    {
      "cell_type": "code",
      "metadata": {
        "id": "LNy0CI1f9uhb"
      },
      "source": [
        "np.random.seed(37)\n",
        "#get one random number using normal distribution with mena zero and standard deviation 0.01\n",
        "n = np.random.normal(loc=0, scale=0.01)\n",
        "#initialize W with random number\n",
        "W = np.ones(9)*n"
      ],
      "execution_count": 30,
      "outputs": []
    },
    {
      "cell_type": "code",
      "metadata": {
        "id": "xJspU6ZuGhRQ"
      },
      "source": [
        "#initalize alpha to 0.01\n",
        "alpha = 0.01\n",
        "#creating empty lists\n",
        "loss, loss_v = [], []\n",
        "#initialize epochs to 100\n",
        "epochs =100\n",
        "\n",
        "#iterate through epochs\n",
        "for i in range(epochs):\n",
        "  #iterate through length of X\n",
        "  for j in range(len(X)):\n",
        "    #calculate forward propogation\n",
        "    df_v = forward_propagation(X[j], y[j], W)\n",
        "\n",
        "    #calculate backward propogation\n",
        "    db_v = backward_propagation(X[j],W,df_v)\n",
        "\n",
        "    #get backward propogation values and convert it into array and store in dw\n",
        "    dw = np.array(list(db_v.values()))\n",
        "\n",
        "    #update W\n",
        "    W -= alpha * dw\n",
        "\n",
        "    #calculate forward propogation with updated W\n",
        "    df_v = forward_propagation(X[j], y[j], W)\n",
        "\n",
        "  #append loss to list\n",
        "  loss_v.append(df_v['loss'])"
      ],
      "execution_count": 31,
      "outputs": []
    },
    {
      "cell_type": "markdown",
      "metadata": {
        "id": "UlTLXrvmlR26"
      },
      "source": [
        "<font color='blue'>Plot between epochs and loss</font>"
      ]
    },
    {
      "cell_type": "code",
      "metadata": {
        "id": "CjTCVUIoGhTo",
        "colab": {
          "base_uri": "https://localhost:8080/",
          "height": 350
        },
        "outputId": "b5b25f75-5da5-466a-ec68-ef42812d9129"
      },
      "source": [
        "#Ploting Vanilla Loss\n",
        "plt.figure(figsize=(15,5))\n",
        "plt.plot(range(epochs), loss_v)\n",
        "plt.title(\"Epochs Vs Vanilla Loss\")\n",
        "plt.xlabel('Epochs')\n",
        "plt.ylabel('Vanilla loss')\n",
        "plt.show()"
      ],
      "execution_count": 32,
      "outputs": [
        {
          "output_type": "display_data",
          "data": {
            "image/png": "[encoded data removed]",
            "text/plain": [
              "<Figure size 1080x360 with 1 Axes>"
            ]
          },
          "metadata": {
            "needs_background": "light"
          }
        }
      ]
    },
    {
      "cell_type": "markdown",
      "metadata": {
        "id": "cv_hZFWalS2z"
      },
      "source": [
        "###<font color='blue'>Algorithm with Momentum update of weights</font>"
      ]
    },
    {
      "cell_type": "code",
      "metadata": {
        "id": "uucCdyQrGhZt"
      },
      "source": [
        "#initalize W with random number\n",
        "W = np.ones(9)*n\n",
        "#initalize alpha to 0.01\n",
        "alpha = 0.01\n",
        "\n",
        "#create empty lists\n",
        "loss, loss_m = [], []\n",
        "#initialize mu, epochs, v\n",
        "mu = 0.9\n",
        "epochs =100\n",
        "v = 0\n",
        "\n",
        "#iterate through epochs\n",
        "for i in range(epochs):\n",
        "  #iterate through length of X\n",
        "  for j in range(len(X)):\n",
        "    #calculate forward propogation\n",
        "    df_m = forward_propagation(X[j], y[j], W)\n",
        "    #calculate backward propogation\n",
        "    db_m = backward_propagation(X[j],W,df_m)\n",
        "\n",
        "    #get backward propogation values and convert it into array and store in dw\n",
        "    dw = np.array(list(db_m.values()))\n",
        "\n",
        "    #calculate v using formula\n",
        "    v = mu * v - alpha * dw\n",
        "    #update W\n",
        "    W += v\n",
        "\n",
        "    #calculate forward propogation with updated W\n",
        "    df_m = forward_propagation(X[j], y[j], W)\n",
        "\n",
        "  #append loss to list\n",
        "  loss_m.append(df_m['loss'])"
      ],
      "execution_count": 34,
      "outputs": []
    },
    {
      "cell_type": "markdown",
      "metadata": {
        "id": "Ow20azfKlVhn"
      },
      "source": [
        "<font color='blue'>Plot between epochs and loss</font>"
      ]
    },
    {
      "cell_type": "code",
      "metadata": {
        "id": "u-m90Sq_Ghce",
        "colab": {
          "base_uri": "https://localhost:8080/",
          "height": 350
        },
        "outputId": "46a2dcae-fca8-4c42-f2db-161533d6629c"
      },
      "source": [
        "#Ploting Momentum Loss\n",
        "plt.figure(figsize=(15,5))\n",
        "plt.plot(np.arange(epochs), loss_m)\n",
        "plt.title(\"Epochs Vs Momentum Loss\")\n",
        "plt.xlabel('Epochs')\n",
        "plt.ylabel('Momentum loss')\n",
        "plt.show()"
      ],
      "execution_count": null,
      "outputs": [
        {
          "output_type": "display_data",
          "data": {
            "image/png": "[encoded data removed]",
            "text/plain": [
              "<Figure size 1080x360 with 1 Axes>"
            ]
          },
          "metadata": {
            "needs_background": "light"
          }
        }
      ]
    },
    {
      "cell_type": "markdown",
      "metadata": {
        "id": "V4RWWrZ7lWap"
      },
      "source": [
        "###<font color='blue'>Algorithm with Adam update of weights</font>"
      ]
    },
    {
      "cell_type": "code",
      "metadata": {
        "id": "72rRC8rJGhf5"
      },
      "source": [
        "#initialize below values\n",
        "W = np.ones(9)*n\n",
        "alpha = 0.01\n",
        "loss_a = []\n",
        "mu = 0.9\n",
        "epochs =100\n",
        "m = v = 0\n",
        "eps = 1e-8\n",
        "beta1 = 0.9\n",
        "beta2 = 0.999\n",
        "\n",
        "#iterate through epochs\n",
        "for i in range(epochs):\n",
        "  #iterate through length of X\n",
        "  for j in range(len(X)):\n",
        "    #calculate forward propogation\n",
        "    df_a = forward_propagation(X[j], y[j], W)\n",
        "    #calculate backward propogation\n",
        "    db_a = backward_propagation(X[j],W,df_a)\n",
        "\n",
        "    #get backward propogation values and convert it into array and store in dw\n",
        "    dw = np.array(list(db_a.values()))\n",
        "\n",
        "    #Update m using formula\n",
        "    m = beta1*m + (1-beta1)*dw\n",
        "    #Update v using formula\n",
        "    v = beta2*v + (1-beta2)*(dw**2)\n",
        "    #Update W using formula\n",
        "    W += (- alpha * m) / (np.sqrt(v) + eps)\n",
        "\n",
        "    #calculate forward propogation with updated W\n",
        "    df_m = forward_propagation(X[j], y[j], W)\n",
        "\n",
        "  #append loss to list\n",
        "  loss_a.append(df_m['loss'])"
      ],
      "execution_count": 35,
      "outputs": []
    },
    {
      "cell_type": "markdown",
      "metadata": {
        "id": "MMy0nBw-lXml"
      },
      "source": [
        "<font color='blue'>Plot between epochs and loss</font>"
      ]
    },
    {
      "cell_type": "code",
      "metadata": {
        "id": "aiFRk_uFlm2V",
        "colab": {
          "base_uri": "https://localhost:8080/",
          "height": 350
        },
        "outputId": "6b7c3c2c-8029-46f3-f922-19eecadabc3c"
      },
      "source": [
        "#Ploting Adam Loss\n",
        "plt.figure(figsize=(15,5))\n",
        "plt.plot(np.arange(epochs), loss_a)\n",
        "plt.title(\"Epochs Vs Adam Loss\")\n",
        "plt.xlabel('Epochs')\n",
        "plt.ylabel('Adam loss')\n",
        "plt.show()"
      ],
      "execution_count": null,
      "outputs": [
        {
          "output_type": "display_data",
          "data": {
            "image/png": "[encoded data removed]",
            "text/plain": [
              "<Figure size 1080x360 with 1 Axes>"
            ]
          },
          "metadata": {
            "needs_background": "light"
          }
        }
      ]
    },
    {
      "cell_type": "markdown",
      "metadata": {
        "id": "x7EJWOAaoHDg"
      },
      "source": [
        "<h1>Observation</h1>"
      ]
    },
    {
      "cell_type": "markdown",
      "metadata": {
        "id": "ob4tvcYqoPPY"
      },
      "source": [
        "1. We have implemented different types of weight updates as mentioned in the link for task 2\n",
        "2. It can be seen that, Adam optimizer performs the best, by reducing the loss in minimum number of epochs.\n",
        "3. Vanilla update does monotonically reduce the loss, but takes higher number of epochs than Adam\n",
        "4. In Momentum update, the loss seems to reduce gradually."
      ]
    },
    {
      "cell_type": "code",
      "metadata": {
        "id": "SsaM8JbWoTs9"
      },
      "source": [
        ""
      ],
      "execution_count": null,
      "outputs": []
    }
  ]
}